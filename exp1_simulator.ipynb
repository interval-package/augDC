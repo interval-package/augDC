{
 "cells": [
  {
   "cell_type": "markdown",
   "metadata": {},
   "source": [
    "Preloading configs\n",
    "\n",
    "The functions should be implemented in the other file."
   ]
  },
  {
   "cell_type": "code",
   "execution_count": 6,
   "metadata": {},
   "outputs": [
    {
     "name": "stderr",
     "output_type": "stream",
     "text": [
      "usage: ipykernel_launcher.py [-h] [--policy POLICY] [--env_id ENV_ID]\n",
      "                             [--seed SEED] [--eval_freq EVAL_FREQ]\n",
      "                             [--save_model_freq SAVE_MODEL_FREQ]\n",
      "                             [--max_timesteps MAX_TIMESTEPS] [--save_model]\n",
      "                             [--load_model LOAD_MODEL] [--device DEVICE]\n",
      "                             [--info INFO] [--actor_lr ACTOR_LR]\n",
      "                             [--critic_lr CRITIC_LR] [--expl_noise EXPL_NOISE]\n",
      "                             [--batch_size BATCH_SIZE] [--discount DISCOUNT]\n",
      "                             [--tau TAU] [--policy_noise POLICY_NOISE]\n",
      "                             [--noise_clip NOISE_CLIP]\n",
      "                             [--policy_freq POLICY_FREQ] [--normalize]\n",
      "                             [--scale SCALE] [--shift SHIFT] [--alpha ALPHA]\n",
      "                             [--beta BETA] [--k K]\n",
      "ipykernel_launcher.py: error: unrecognized arguments: --f=/home/zhangfeihong/.local/share/jupyter/runtime/kernel-v2-13501340wllMy1EOHXl.json\n"
     ]
    },
    {
     "ename": "SystemExit",
     "evalue": "2",
     "output_type": "error",
     "traceback": [
      "An exception has occurred, use %tb to see the full traceback.\n",
      "\u001b[0;31mSystemExit\u001b[0m\u001b[0;31m:\u001b[0m 2\n"
     ]
    }
   ],
   "source": [
    "from main_simulator import exp_train, exp_test\n",
    "from simulator import simulator_learn\n",
    "from utils.config import get_config\n",
    "args, env, kwargs = get_config(\"PRDC\")"
   ]
  },
  {
   "cell_type": "markdown",
   "metadata": {},
   "source": [
    "Train simulator"
   ]
  },
  {
   "cell_type": "code",
   "execution_count": null,
   "metadata": {},
   "outputs": [],
   "source": [
    "exp_train()"
   ]
  }
 ],
 "metadata": {
  "kernelspec": {
   "display_name": "prdc",
   "language": "python",
   "name": "python3"
  },
  "language_info": {
   "codemirror_mode": {
    "name": "ipython",
    "version": 3
   },
   "file_extension": ".py",
   "mimetype": "text/x-python",
   "name": "python",
   "nbconvert_exporter": "python",
   "pygments_lexer": "ipython3",
   "version": "3.8.18"
  }
 },
 "nbformat": 4,
 "nbformat_minor": 2
}
