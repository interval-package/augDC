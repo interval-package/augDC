{
 "cells": [
  {
   "cell_type": "markdown",
   "metadata": {},
   "source": [
    "# Exp 2 test data augmentation\n",
    "\n",
    "In this test, we'll try the methods to extend the dataset.\n",
    "\n",
    "And how accurate a simulator is needed to strengthen the training process."
   ]
  },
  {
   "cell_type": "code",
   "execution_count": 1,
   "metadata": {},
   "outputs": [
    {
     "name": "stderr",
     "output_type": "stream",
     "text": [
      "Warning: Flow failed to import. Set the environment variable D4RL_SUPPRESS_IMPORT_ERROR=1 to suppress this message.\n",
      "No module named 'flow'\n",
      "/home/zhangfeihong/miniconda3/envs/prdc/lib/python3.8/site-packages/glfw/__init__.py:914: GLFWError: (65544) b'X11: The DISPLAY environment variable is missing'\n",
      "  warnings.warn(message, GLFWError)\n",
      "Warning: CARLA failed to import. Set the environment variable D4RL_SUPPRESS_IMPORT_ERROR=1 to suppress this message.\n",
      "No module named 'carla'\n",
      "pybullet build time: Nov 28 2023 23:51:11\n",
      "/home/zhangfeihong/miniconda3/envs/prdc/lib/python3.8/site-packages/pybullet_envs/env_bases.py:8: DeprecationWarning: pkg_resources is deprecated as an API. See https://setuptools.pypa.io/en/latest/pkg_resources.html\n",
      "  from pkg_resources import parse_version\n",
      "/home/zhangfeihong/miniconda3/envs/prdc/lib/python3.8/site-packages/pkg_resources/__init__.py:2871: DeprecationWarning: Deprecated call to `pkg_resources.declare_namespace('google')`.\n",
      "Implementing implicit namespace packages (as specified in PEP 420) is preferred to `pkg_resources.declare_namespace`. See https://setuptools.pypa.io/en/latest/references/keywords.html#keyword-namespace-packages\n",
      "  declare_namespace(pkg)\n",
      "/home/zhangfeihong/miniconda3/envs/prdc/lib/python3.8/site-packages/pkg_resources/__init__.py:2871: DeprecationWarning: Deprecated call to `pkg_resources.declare_namespace('google.logging')`.\n",
      "Implementing implicit namespace packages (as specified in PEP 420) is preferred to `pkg_resources.declare_namespace`. See https://setuptools.pypa.io/en/latest/references/keywords.html#keyword-namespace-packages\n",
      "  declare_namespace(pkg)\n",
      "/home/zhangfeihong/miniconda3/envs/prdc/lib/python3.8/site-packages/pkg_resources/__init__.py:2871: DeprecationWarning: Deprecated call to `pkg_resources.declare_namespace('mpl_toolkits')`.\n",
      "Implementing implicit namespace packages (as specified in PEP 420) is preferred to `pkg_resources.declare_namespace`. See https://setuptools.pypa.io/en/latest/references/keywords.html#keyword-namespace-packages\n",
      "  declare_namespace(pkg)\n",
      "usage: ipykernel_launcher.py [-h] [--policy POLICY] [--env_id ENV_ID]\n",
      "                             [--seed SEED] [--eval_freq EVAL_FREQ]\n",
      "                             [--save_model_freq SAVE_MODEL_FREQ]\n",
      "                             [--max_timesteps MAX_TIMESTEPS] [--save_model]\n",
      "                             [--load_model LOAD_MODEL] [--device DEVICE]\n",
      "                             [--info INFO] [--actor_lr ACTOR_LR]\n",
      "                             [--critic_lr CRITIC_LR] [--expl_noise EXPL_NOISE]\n",
      "                             [--batch_size BATCH_SIZE] [--discount DISCOUNT]\n",
      "                             [--tau TAU] [--policy_noise POLICY_NOISE]\n",
      "                             [--noise_clip NOISE_CLIP]\n",
      "                             [--policy_freq POLICY_FREQ] [--normalize]\n",
      "                             [--scale SCALE] [--shift SHIFT] [--alpha ALPHA]\n",
      "                             [--beta BETA] [--k K]\n",
      "ipykernel_launcher.py: error: unrecognized arguments: --f=/home/zhangfeihong/.local/share/jupyter/runtime/kernel-v2-1350134Us0mkJkOiyMK.json\n"
     ]
    },
    {
     "ename": "SystemExit",
     "evalue": "2",
     "output_type": "error",
     "traceback": [
      "An exception has occurred, use %tb to see the full traceback.\n",
      "\u001b[0;31mSystemExit\u001b[0m\u001b[0;31m:\u001b[0m 2\n"
     ]
    },
    {
     "name": "stderr",
     "output_type": "stream",
     "text": [
      "/home/zhangfeihong/miniconda3/envs/prdc/lib/python3.8/site-packages/IPython/core/interactiveshell.py:3513: UserWarning: To exit: use 'exit', 'quit', or Ctrl-D.\n",
      "  warn(\"To exit: use 'exit', 'quit', or Ctrl-D.\", stacklevel=1)\n"
     ]
    }
   ],
   "source": [
    "from simulator.simulator_learn import simulator_learn\n",
    "from utils.config import get_config\n",
    "from utils.buffer import ReplayBuffer\n",
    "import d4rl\n",
    "import numpy as np\n",
    "\n",
    "args, env, kwargs = get_config(\"PRDC\")\n",
    "sim = simulator_learn(args.env_id, env, \"MLP\", None, **kwargs)\n",
    "\n",
    "replay_buffer = ReplayBuffer(kwargs[\"state_dim\"], kwargs[\"action_dim\"], args.device, args.env_id, args.scale, args.shift)\n",
    "replay_buffer.convert_D4RL(d4rl.qlearning_dataset(env))\n",
    "if args.normalize:\n",
    "    mean, std = replay_buffer.normalize_states()\n",
    "else:\n",
    "    mean, std = 0, 1\n",
    "\n",
    "batch_size = 16\n",
    "\n",
    "states = replay_buffer.state\n",
    "actions = replay_buffer.action\n",
    "data = np.hstack([args.beta * states, actions])"
   ]
  },
  {
   "cell_type": "code",
   "execution_count": null,
   "metadata": {},
   "outputs": [],
   "source": [
    "from algs import AugDC\n",
    "\n",
    "alg = AugDC(data=data, simulator=sim, **kwargs)\n",
    "\n",
    "# state, action, reward, next_state, not_done = replay_buffer.sample(batch_size)"
   ]
  },
  {
   "cell_type": "markdown",
   "metadata": {},
   "source": [
    "## Test Data aug methods\n",
    "\n",
    "- traj level aug\n",
    "    - simulate virtual rollout\n",
    "- random aug\n",
    "- replay aug"
   ]
  },
  {
   "cell_type": "code",
   "execution_count": null,
   "metadata": {},
   "outputs": [],
   "source": []
  },
  {
   "cell_type": "markdown",
   "metadata": {},
   "source": [
    "### Virtual online learnning\n",
    "\n",
    "Given init state and policy to rollout N step."
   ]
  },
  {
   "cell_type": "code",
   "execution_count": null,
   "metadata": {},
   "outputs": [],
   "source": [
    "# Configs for the rollout"
   ]
  },
  {
   "cell_type": "code",
   "execution_count": null,
   "metadata": {},
   "outputs": [],
   "source": [
    "state, action, reward, next_state, not_done = replay_buffer.sample(batch_size)\n",
    "\n",
    "alg.select_action(state)"
   ]
  },
  {
   "cell_type": "code",
   "execution_count": null,
   "metadata": {},
   "outputs": [],
   "source": []
  }
 ],
 "metadata": {
  "kernelspec": {
   "display_name": "prdc",
   "language": "python",
   "name": "python3"
  },
  "language_info": {
   "codemirror_mode": {
    "name": "ipython",
    "version": 3
   },
   "file_extension": ".py",
   "mimetype": "text/x-python",
   "name": "python",
   "nbconvert_exporter": "python",
   "pygments_lexer": "ipython3",
   "version": "3.8.18"
  }
 },
 "nbformat": 4,
 "nbformat_minor": 2
}
